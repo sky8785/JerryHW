{
 "cells": [
  {
   "cell_type": "markdown",
   "metadata": {},
   "source": [
    "作業一"
   ]
  },
  {
   "cell_type": "code",
   "execution_count": 6,
   "metadata": {},
   "outputs": [
    {
     "name": "stdout",
     "output_type": "stream",
     "text": [
      "來了數字吧!8\n"
     ]
    },
    {
     "data": {
      "text/plain": [
       "[108]"
      ]
     },
     "execution_count": 6,
     "metadata": {},
     "output_type": "execute_result"
    }
   ],
   "source": [
    "qq=input(\"來了數字吧!\")\n",
    "zz=[int(qq)]\n",
    "list(map(lambda x:x+100,zz))"
   ]
  },
  {
   "cell_type": "markdown",
   "metadata": {},
   "source": [
    "作業二"
   ]
  },
  {
   "cell_type": "code",
   "execution_count": 22,
   "metadata": {},
   "outputs": [
    {
     "name": "stdout",
     "output_type": "stream",
     "text": [
      "multiply: 20\n"
     ]
    }
   ],
   "source": [
    "def xxx(func):\n",
    "    def nxxx(a,b):\n",
    "        ans=a*b\n",
    "        print(\"multiply:\",ans)\n",
    "    return nxxx\n",
    "    \n",
    "@xxx    \n",
    "def add(a,b):\n",
    "    ans=a+b\n",
    "    return ans\n",
    "add(10,2)"
   ]
  },
  {
   "cell_type": "markdown",
   "metadata": {},
   "source": [
    "作業三"
   ]
  },
  {
   "cell_type": "code",
   "execution_count": 25,
   "metadata": {},
   "outputs": [
    {
     "name": "stdout",
     "output_type": "stream",
     "text": [
      "來個數字吧:><\n",
      "出錯,請重新輸入\n"
     ]
    }
   ],
   "source": [
    "x=input(\"來個數字吧:\")\n",
    "try:\n",
    "    print(int(x))\n",
    "except:\n",
    "    print(\"出錯,請重新輸入\")"
   ]
  },
  {
   "cell_type": "markdown",
   "metadata": {},
   "source": [
    "作業四"
   ]
  },
  {
   "cell_type": "code",
   "execution_count": null,
   "metadata": {},
   "outputs": [],
   "source": [
    "from source import caculator\n",
    "inputa=int(input('給我第一個數字'))\n",
    "inputb=int(input('給我第二個數字'))\n",
    "s=input('輸入個運算值')\n",
    "print(cacu.ans(inputa,inputb,s))"
   ]
  },
  {
   "cell_type": "code",
   "execution_count": null,
   "metadata": {},
   "outputs": [],
   "source": []
  }
 ],
 "metadata": {
  "kernelspec": {
   "display_name": "Python 3",
   "language": "python",
   "name": "python3"
  },
  "language_info": {
   "codemirror_mode": {
    "name": "ipython",
    "version": 3
   },
   "file_extension": ".py",
   "mimetype": "text/x-python",
   "name": "python",
   "nbconvert_exporter": "python",
   "pygments_lexer": "ipython3",
   "version": "3.6.4"
  }
 },
 "nbformat": 4,
 "nbformat_minor": 2
}
